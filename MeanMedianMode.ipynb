{
 "cells": [
  {
   "cell_type": "markdown",
   "metadata": {},
   "source": [
    "# Mean, Median, Mode, and introducing NumPy"
   ]
  },
  {
   "cell_type": "markdown",
   "metadata": {},
   "source": [
    "## Mean vs. Median"
   ]
  },
  {
   "cell_type": "markdown",
   "metadata": {},
   "source": [
    "Let's create some fake income data, centered around 27,000 with a normal distribution and standard deviation of 15,000, with 10,000 data points. (We'll discuss those terms more later, if you're not familiar with them.)\n",
    "\n",
    "Then, compute the mean (average) - it should be close to 27,000:"
   ]
  },
  {
   "cell_type": "code",
   "execution_count": 23,
   "metadata": {},
   "outputs": [
    {
     "data": {
      "text/plain": [
       "26892.32874643963"
      ]
     },
     "execution_count": 23,
     "metadata": {},
     "output_type": "execute_result"
    }
   ],
   "source": [
    "import numpy as np\n",
    "\n",
    "# num info above\n",
    "incomes = np.random.normal(27000, 15000, 10000)\n",
    "np.mean(incomes)"
   ]
  },
  {
   "cell_type": "markdown",
   "metadata": {},
   "source": [
    "We can segment the income data into 50 buckets, and plot it as a histogram:"
   ]
  },
  {
   "cell_type": "code",
   "execution_count": 2,
   "metadata": {},
   "outputs": [
    {
     "data": {
      "image/png": "[encoded data removed]",
      "text/plain": [
       "<Figure size 432x288 with 1 Axes>"
      ]
     },
     "metadata": {
      "needs_background": "light"
     },
     "output_type": "display_data"
    }
   ],
   "source": [
    "%matplotlib inline\n",
    "import matplotlib.pyplot as plt\n",
    "plt.hist(incomes, 50)\n",
    "plt.show()"
   ]
  },
  {
   "cell_type": "markdown",
   "metadata": {},
   "source": [
    "Now compute the median - since we have a nice, even distribution it too should be close to 27,000:"
   ]
  },
  {
   "cell_type": "code",
   "execution_count": 3,
   "metadata": {},
   "outputs": [
    {
     "data": {
      "text/plain": [
       "26982.512556044785"
      ]
     },
     "execution_count": 3,
     "metadata": {},
     "output_type": "execute_result"
    }
   ],
   "source": [
    "np.median(incomes)"
   ]
  },
  {
   "cell_type": "markdown",
   "metadata": {},
   "source": [
    "Now we'll add Donald Trump into the mix. Darn income inequality!"
   ]
  },
  {
   "cell_type": "code",
   "execution_count": 4,
   "metadata": {},
   "outputs": [],
   "source": [
    "incomes = np.append(incomes, [1000000000])"
   ]
  },
  {
   "cell_type": "markdown",
   "metadata": {},
   "source": [
    "The median won't change much, but the mean does:"
   ]
  },
  {
   "cell_type": "code",
   "execution_count": 5,
   "metadata": {},
   "outputs": [
    {
     "data": {
      "text/plain": [
       "26982.70747491258"
      ]
     },
     "execution_count": 5,
     "metadata": {},
     "output_type": "execute_result"
    }
   ],
   "source": [
    "np.median(incomes)"
   ]
  },
  {
   "cell_type": "code",
   "execution_count": 6,
   "metadata": {},
   "outputs": [
    {
     "data": {
      "text/plain": [
       "126941.39127901704"
      ]
     },
     "execution_count": 6,
     "metadata": {},
     "output_type": "execute_result"
    }
   ],
   "source": [
    "np.mean(incomes)"
   ]
  },
  {
   "cell_type": "markdown",
   "metadata": {},
   "source": [
    "## Mode"
   ]
  },
  {
   "cell_type": "markdown",
   "metadata": {},
   "source": [
    "Next, let's generate some fake age data for 500 people:"
   ]
  },
  {
   "cell_type": "code",
   "execution_count": 7,
   "metadata": {},
   "outputs": [
    {
     "data": {
      "text/plain": [
       "array([83, 49, 51, 29, 43, 78, 84, 27, 45, 88, 35, 77, 61, 74, 28, 32, 78,\n",
       "       85, 75, 53, 48, 54, 39, 55, 73, 52, 22, 82, 53, 74, 62, 32, 74, 82,\n",
       "       49, 83, 69, 26, 75, 38, 69, 47, 44, 49, 64, 39, 67, 48, 82, 20, 29,\n",
       "       34, 37, 34, 49, 72, 39, 20, 74, 70, 79, 65, 46, 48, 81, 89, 52, 46,\n",
       "       45, 27, 78, 42, 70, 18, 25, 34, 63, 29, 61, 62, 78, 26, 19, 23, 69,\n",
       "       67, 62, 35, 68, 21, 82, 25, 27, 76, 22, 56, 30, 43, 46, 89, 45, 34,\n",
       "       47, 42, 33, 73, 42, 68, 35, 50, 50, 66, 35, 87, 30, 22, 78, 24, 21,\n",
       "       58, 57, 40, 52, 69, 19, 47, 85, 87, 75, 70, 56, 84, 36, 37, 19, 65,\n",
       "       83, 37, 51, 40, 74, 73, 57, 67, 29, 64, 42, 27, 51, 82, 18, 70, 89,\n",
       "       61, 70, 77, 29, 82, 41, 51, 19, 53, 65, 56, 25, 47, 38, 55, 57, 83,\n",
       "       43, 84, 52, 36, 65, 40, 26, 76, 62, 23, 50, 85, 30, 77, 82, 79, 27,\n",
       "       46, 29, 31, 77, 69, 86, 23, 47, 69, 35, 27, 69, 28, 41, 27, 58, 52,\n",
       "       59, 70, 30, 37, 31, 22, 29, 47, 31, 44, 20, 78, 56, 54, 33, 83, 81,\n",
       "       43, 68, 33, 83, 18, 76, 82, 25, 79, 45, 89, 18, 71, 49, 56, 79, 85,\n",
       "       59, 35, 59, 35, 65, 28, 58, 89, 41, 57, 21, 80, 55, 57, 76, 57, 54,\n",
       "       43, 86, 55, 43, 29, 40, 83, 50, 29, 60, 39, 22, 61, 64, 41, 75, 31,\n",
       "       65, 82, 36, 70, 86, 89, 36, 24, 18, 71, 33, 41, 64, 52, 52, 51, 20,\n",
       "       35, 64, 68, 40, 72, 84, 69, 79, 52, 65, 63, 65, 50, 76, 53, 54, 24,\n",
       "       22, 23, 39, 61, 78, 43, 54, 80, 83, 53, 27, 32, 60, 47, 24, 70, 70,\n",
       "       62, 44, 56, 64, 40, 44, 48, 50, 45, 22, 24, 83, 42, 48, 20, 44, 56,\n",
       "       39, 28, 27, 77, 27, 64, 49, 32, 23, 68, 46, 50, 54, 64, 63, 35, 32,\n",
       "       85, 61, 89, 66, 44, 32, 43, 25, 89, 20, 52, 29, 51, 89, 86, 26, 18,\n",
       "       83, 29, 89, 45, 61, 59, 53, 34, 77, 51, 33, 54, 88, 53, 78, 74, 32,\n",
       "       54, 50, 54, 20, 46, 54, 35, 46, 65, 31, 30, 18, 86, 75, 43, 58, 56,\n",
       "       59, 86, 50, 37, 35, 40, 83, 79, 48, 40, 74, 82, 43, 45, 64, 74, 26,\n",
       "       84, 70, 54, 64, 86, 45, 34, 83, 82, 80, 18, 67, 28, 57, 79, 31, 49,\n",
       "       83, 56, 74, 57, 85, 55, 68, 45, 22, 65, 56, 25, 36, 87, 24, 18, 60,\n",
       "       71, 81, 62, 81, 62, 42, 79, 83, 40, 51, 67, 20, 36, 83, 25, 88, 65,\n",
       "       53, 66, 89, 67, 55, 54, 54, 30, 71, 49, 20, 63, 51, 28, 58, 19, 37,\n",
       "       48, 57, 45, 49, 30, 49, 52])"
      ]
     },
     "execution_count": 7,
     "metadata": {},
     "output_type": "execute_result"
    }
   ],
   "source": [
    "ages = np.random.randint(18, high=90, size=500)\n",
    "ages"
   ]
  },
  {
   "cell_type": "code",
   "execution_count": 8,
   "metadata": {},
   "outputs": [
    {
     "data": {
      "text/plain": [
       "ModeResult(mode=array([83]), count=array([15]))"
      ]
     },
     "execution_count": 8,
     "metadata": {},
     "output_type": "execute_result"
    }
   ],
   "source": [
    "from scipy import stats\n",
    "stats.mode(ages)"
   ]
  },
  {
   "cell_type": "code",
   "execution_count": null,
   "metadata": {},
   "outputs": [],
   "source": []
  }
 ],
 "metadata": {
  "kernelspec": {
   "display_name": "Python 3",
   "language": "python",
   "name": "python3"
  },
  "language_info": {
   "codemirror_mode": {
    "name": "ipython",
    "version": 3
   },
   "file_extension": ".py",
   "mimetype": "text/x-python",
   "name": "python",
   "nbconvert_exporter": "python",
   "pygments_lexer": "ipython3",
   "version": "3.6.7"
  }
 },
 "nbformat": 4,
 "nbformat_minor": 1
}
